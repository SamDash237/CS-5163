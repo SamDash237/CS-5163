{
 "cells": [
  {
   "cell_type": "markdown",
   "metadata": {},
   "source": [
    "# Homework Assignment #1\n",
    "# CS 3753/5163\n",
    "## Sam Dash"
   ]
  },
  {
   "cell_type": "markdown",
   "metadata": {},
   "source": [
    "Submit one Jupyter notebook named as yourLastName_HW01 with appropriate code cell to solve the\n",
    "following questions. Make sure that the question is included in your code cell on the top as a comment.\n",
    "You must use only the basic Python and no external module or library is allowed other than math\n",
    "module. Include any specific direction/instruction to run your script in comments."
   ]
  },
  {
   "cell_type": "code",
   "execution_count": 1,
   "metadata": {},
   "outputs": [],
   "source": [
    "import math"
   ]
  },
  {
   "cell_type": "raw",
   "metadata": {},
   "source": [
    "Q1) Write a Python program that accepts the radius of a circle from the user and computes the area.\n",
    "The output should be formatted to two decimal points. Include error handling. Hint: the area of a circle\n",
    "= π*(r^2)"
   ]
  },
  {
   "cell_type": "code",
   "execution_count": 2,
   "metadata": {
    "scrolled": true
   },
   "outputs": [
    {
     "name": "stdout",
     "output_type": "stream",
     "text": [
      "Enter radius:  4\n",
      "Your area is:  50.26548245743669\n"
     ]
    }
   ],
   "source": [
    "radius = float(input(\"Enter radius:  \"))\n",
    "area = math.pi*radius*radius\n",
    "\n",
    "print(\"Your area is: \", area)"
   ]
  },
  {
   "cell_type": "raw",
   "metadata": {},
   "source": [
    "Q2) Write a Python program that accepts a sequence of comma-separated numbers from the user and\n",
    "generates a list and a tuple with those numbers."
   ]
  },
  {
   "cell_type": "code",
   "execution_count": 3,
   "metadata": {},
   "outputs": [
    {
     "name": "stdout",
     "output_type": "stream",
     "text": [
      "Enter a comma-separated number sequence: 3,4,1,5,3\n",
      "['3', '4', '1', '5', '3'] ('3', '4', '1', '5', '3')\n"
     ]
    }
   ],
   "source": [
    "userSequence = input(\"Enter a comma-separated number sequence: \")\n",
    "userList = userSequence.split(\",\")\n",
    "userTuple = tuple(userList)\n",
    "\n",
    "print(userList, userTuple)"
   ]
  },
  {
   "cell_type": "raw",
   "metadata": {},
   "source": [
    "Q3) Write a Python program that accepts a number and calculates its factorial. No built-in function\n",
    "should be used."
   ]
  },
  {
   "cell_type": "code",
   "execution_count": 4,
   "metadata": {},
   "outputs": [
    {
     "name": "stdout",
     "output_type": "stream",
     "text": [
      "Enter a number to discover its factorial: 6\n",
      "Factorial:  720\n"
     ]
    }
   ],
   "source": [
    "userFactorial = int(input(\"Enter a number to discover its factorial: \"))\n",
    "\n",
    "def factorial(n):\n",
    "    if n == 0:\n",
    "        return 1\n",
    "    else:\n",
    "        return n*factorial(n-1)\n",
    "    \n",
    "print(\"Factorial: \", factorial(userFactorial))"
   ]
  },
  {
   "cell_type": "raw",
   "metadata": {},
   "source": [
    "Q4) Write a Python program to calculate number of days between two dates. The dates should be\n",
    "entered in the format: mm/dd/yyyy. Do not use any built-in function."
   ]
  },
  {
   "cell_type": "code",
   "execution_count": 5,
   "metadata": {},
   "outputs": [
    {
     "name": "stdout",
     "output_type": "stream",
     "text": [
      "Enter first date as mm/dd/yyyy: 01/12/2000\n",
      "Enter second date as mm/dd/yyyy:1/01/2019\n",
      "Number of days between the dates is:  6605\n"
     ]
    }
   ],
   "source": [
    "#Extracts months, days, years from input. Assume that all months are 30 days.\n",
    "#Date 2 is always later than Date 1\n",
    "\n",
    "inputDate1 = [int(i) for i in input(\"Enter first date as mm/dd/yyyy: \").split(\"/\")]\n",
    "inputDate2 = [int(i) for i in input(\"Enter second date as mm/dd/yyyy:\").split(\"/\")]\n",
    "\n",
    "yearDiff = (inputDate2[2] - inputDate1[2])\n",
    "yearSum = yearDiff * 365\n",
    "monthDiff = (inputDate2[1] - inputDate1[1])\n",
    "monthSum = monthDiff*30\n",
    "daySum = inputDate2[0] - inputDate1[0]\n",
    "\n",
    "totalSum = yearSum + monthSum + daySum\n",
    "\n",
    "print(\"Number of days between the dates is: \", totalSum)"
   ]
  },
  {
   "cell_type": "raw",
   "metadata": {},
   "source": [
    "Q5) Write a Python program that finds if a given number is a multiple of 4."
   ]
  },
  {
   "cell_type": "code",
   "execution_count": 6,
   "metadata": {},
   "outputs": [
    {
     "name": "stdout",
     "output_type": "stream",
     "text": [
      "Enter a number: 36\n",
      "The given number is a multiple of 4.\n"
     ]
    }
   ],
   "source": [
    "userNumber = int(input(\"Enter a number: \"))\n",
    "\n",
    "if userNumber%4 == 0:\n",
    "    print(\"The given number is a multiple of 4.\")\n",
    "else:\n",
    "    print(\"The given number is not a multiple of 4.\")"
   ]
  },
  {
   "cell_type": "raw",
   "metadata": {},
   "source": [
    "Q6) Write a Python program to count how many times a given number occurred in the list [4, 6, 7, 2, 11,\n",
    "6, 4, 2, 3, 9, 8, 5, 6, 3, 4, 7, 3]. If the number is not in the list your program prints 0. Do not use any built-in function or method."
   ]
  },
  {
   "cell_type": "code",
   "execution_count": 7,
   "metadata": {},
   "outputs": [
    {
     "name": "stdout",
     "output_type": "stream",
     "text": [
      "Enter a number: 3\n",
      "Number of times 3 appears is 3\n"
     ]
    }
   ],
   "source": [
    "count = 0\n",
    "listQ6 = [4, 6, 7, 2, 11, 6, 4, 2, 3, 9, 8, 5, 6, 3, 4, 7, 3]\n",
    "userNumber=int(input(\"Enter a number: \"))\n",
    "for i in listQ6:\n",
    "    if(i == userNumber):\n",
    "        count = count+1\n",
    "print(\"Number of times\",userNumber,\"appears is\",count)"
   ]
  },
  {
   "cell_type": "markdown",
   "metadata": {},
   "source": [
    "Q7) Write a Python program to sum all elements in a given tuple. Your program should ignore all nonnumerical values. No built-in function is allowed."
   ]
  },
  {
   "cell_type": "code",
   "execution_count": 14,
   "metadata": {},
   "outputs": [
    {
     "name": "stdout",
     "output_type": "stream",
     "text": [
      "Enter tuple elements separated by commas: 3,a,4,1,b\n",
      "['3', '4', '1']\n",
      "8\n"
     ]
    }
   ],
   "source": [
    "#DO NOT put spaces before or after commas or before first string. ex.)3,a,4,1,b\n",
    "inputQ7 = input(\"Enter tuple elements separated by commas: \")\n",
    "listQ7  = inputQ7.split(\",\")\n",
    "\n",
    "tupleSum = 0\n",
    "cleanList = [ i for i in listQ7 if i.isdigit() ]\n",
    "\n",
    "cleanList = list(map(int, cleanList))\n",
    "for x in cleanList:\n",
    "    tupleSum += x\n",
    "\n",
    "print(tupleSum)\n",
    "#INCOMPLETE\n",
    "#do not use sum, can use isdigit\n",
    "#for i in tuple, check if digit with list"
   ]
  },
  {
   "cell_type": "markdown",
   "metadata": {},
   "source": [
    "Q8) Write a Python program to calculate the cardinality of the powerset of a given set"
   ]
  },
  {
   "cell_type": "code",
   "execution_count": null,
   "metadata": {},
   "outputs": [],
   "source": [
    "#ex.input: 1, 2, 3 \n",
    "\n",
    "inputQ8 = input(\"Enter a comma-separated set: \")\n",
    "listQ8 = inputQ8.split(\",\")\n",
    "lenQ8 = len(listQ8)\n",
    "\n",
    "outputQ8 = 2**lenQ8\n",
    "\n",
    "outputQ8"
   ]
  },
  {
   "cell_type": "raw",
   "metadata": {},
   "source": [
    "Q9) Write a Python program to compute the greatest common divisor (GCD) of two positive integers"
   ]
  },
  {
   "cell_type": "code",
   "execution_count": null,
   "metadata": {},
   "outputs": [],
   "source": [
    "integer1 = int(input(\"Enter a positive integer: \"))\n",
    "integer2 = int(input(\"Enter a second positive integer: \"))\n",
    "\n",
    "def gcd(div1,div2):\n",
    "  while div2:\n",
    "    div1,div2 = div2, div1%div2\n",
    "  return div1\n",
    "\n",
    "print(gcd(integer1, integer2))"
   ]
  },
  {
   "cell_type": "raw",
   "metadata": {},
   "source": [
    "Q10) Write a Python program to compute the distance between two given points (x1, y1, z1) and (x2, y2, z2)."
   ]
  },
  {
   "cell_type": "code",
   "execution_count": null,
   "metadata": {},
   "outputs": [],
   "source": [
    "#Values for points entered one at a time\n",
    "\n",
    "x1 = int(input(\"Enter value for x1: \"))\n",
    "y1 = int(input(\"Enter value for y1: \"))\n",
    "z1 = int(input(\"Enter value for z1: \"))\n",
    "x2 = int(input(\"Enter value for x2: \"))\n",
    "y2 = int(input(\"Enter value for y2: \"))\n",
    "z2 = int(input(\"Enter value for z2: \"))\n",
    "\n",
    "def compDist(x1, y1, z1, x2, y2, z2):  \n",
    "       \n",
    "    dist = math.sqrt(math.pow(x2 - x1, 2) +\n",
    "                math.pow(y2 - y1, 2) +\n",
    "                math.pow(z2 - z1, 2)* 1.0) \n",
    "    print(\"Distance: \", dist)\n",
    "\n",
    "compDist(x1, y1, z1, x2, y2, z2)  "
   ]
  },
  {
   "cell_type": "raw",
   "metadata": {},
   "source": [
    "Q11) Write a Python program that extracts all digit characters from a string into one string"
   ]
  },
  {
   "cell_type": "code",
   "execution_count": null,
   "metadata": {},
   "outputs": [],
   "source": [
    "inputQ11 = input(\"Enter a string separated by spaces: \")\n",
    "stringQ11 = str(inputQ11)\n",
    "\n",
    "outputQ11 = []\n",
    "for i in stringQ11.split():\n",
    "    try:\n",
    "        outputQ11.append(int(i))\n",
    "    except ValueError:\n",
    "        pass\n",
    "\n",
    "print(outputQ11)"
   ]
  },
  {
   "cell_type": "raw",
   "metadata": {},
   "source": [
    "Q12) Write a python program to sum the first n positive integers in a given list."
   ]
  },
  {
   "cell_type": "code",
   "execution_count": null,
   "metadata": {},
   "outputs": [],
   "source": [
    "#list is space-separated, example input: 1 -4 3 9\n",
    "print(\"Enter a space-separated list of ints: \")\n",
    "listQ12 = [int(i) for i in input().split()]\n",
    "\n",
    "def nPosIntSum(sumList):\n",
    "    n = 0\n",
    "    for i in sumList:\n",
    "        if i > 0:\n",
    "            n += i\n",
    "    return n\n",
    "\n",
    "print(nPosIntSum(listQ12))"
   ]
  },
  {
   "cell_type": "raw",
   "metadata": {},
   "source": [
    "Q13) Write a Python program that calculates the BMI (Body Mass Index) = weight (lb) / [height (in)]^2 x 703 for a person and prints a message based on the following table:\n",
    "    Below 18.5 Underweight\n",
    "    18.5 – 24.9 Normal or Healthy Weight\n",
    "    25.0 – 29.9 Overweight\n",
    "    30.0 and Above Obese"
   ]
  },
  {
   "cell_type": "code",
   "execution_count": null,
   "metadata": {},
   "outputs": [],
   "source": [
    "height = float(input(\"Enter height in inches: \"))\n",
    "weight = float(input(\"Enter weight in pounds: \"))\n",
    "\n",
    "BMI = ((weight)/(height**2)) * 703\n",
    "\n",
    "if BMI >= 30.0:\n",
    "    print(BMI, \"Obese\")\n",
    "elif (BMI <= 29.9) & (BMI >= 25.0):\n",
    "    print (BMI, \"Overweight\")\n",
    "elif (BMI <= 24.9) & (BMI >= 18.5):\n",
    "    print (BMI, \"Normal or Healthy Weight\")\n",
    "else:\n",
    "    print (BMI, \"Underweight\")"
   ]
  },
  {
   "cell_type": "raw",
   "metadata": {},
   "source": [
    "Q14) Write a Python program to calculate the sum of the digits in an integer"
   ]
  },
  {
   "cell_type": "code",
   "execution_count": null,
   "metadata": {
    "scrolled": true
   },
   "outputs": [],
   "source": [
    "inputQ14 = int(input(\"Enter an integer: \"))\n",
    "\n",
    "outputQ14=0\n",
    "\n",
    "while(inputQ14 > 0):\n",
    "    n = inputQ14 % 10\n",
    "    outputQ14 = outputQ14 + n\n",
    "    inputQ14 = inputQ14//10\n",
    "\n",
    "print(\"The sum of digits in the integer is:\", outputQ14)"
   ]
  },
  {
   "cell_type": "raw",
   "metadata": {},
   "source": [
    "Q15) Write a Python program to sort a list of given strings alphabetically. Don’t use any built-in function\n",
    "or method."
   ]
  },
  {
   "cell_type": "code",
   "execution_count": null,
   "metadata": {},
   "outputs": [],
   "source": [
    "#DO NOT put spaces before or after commas or before first string.. ex.)b,e,c,d,a\n",
    "#ex.)paper,cat,rock,fish\n",
    "inputQ15 = input(\"Enter a list of strings: \")\n",
    "listQ15 = inputQ15.split(\",\")\n",
    "\n",
    "print(listQ15)\n",
    "n = len(listQ15)\n",
    "for i in range(n):\n",
    "    for j in range(0, n-i-1):\n",
    "        if listQ15[j] > listQ15[j+1]:\n",
    "            listQ15[j], listQ15[j+1] = listQ15[j+1], listQ15[j]\n",
    "print(listQ15)"
   ]
  },
  {
   "cell_type": "raw",
   "metadata": {},
   "source": [
    "Q16) Write a Python program to check if a given number is integer or float. Do not use any built-in\n",
    "function for numerical objects. For example: 4.0 is float, 3 is integer, 2.8 is float,…etc"
   ]
  },
  {
   "cell_type": "code",
   "execution_count": null,
   "metadata": {},
   "outputs": [],
   "source": [
    "inputQ16 = input(\"Enter a number that is either a float or an int: \")\n",
    "\n",
    "try:\n",
    "    print(int(inputQ16), \"is integer\")\n",
    "except:\n",
    "    print(float(inputQ16), \"is float\")"
   ]
  },
  {
   "cell_type": "raw",
   "metadata": {},
   "source": [
    "Q17) Write a Python program that accepts a list of equal number of strings and numerical values. Create a dictionary from the list where one number is a key for one string.  "
   ]
  },
  {
   "cell_type": "code",
   "execution_count": null,
   "metadata": {},
   "outputs": [],
   "source": [
    "#Both lists should be comma-separated\n",
    "inputAQ17 = input(\"Enter a list of strings: \")\n",
    "listAQ17 = inputAQ17.split(\",\")\n",
    "inputBQ17 = input(\"Enter a list of numbers, same length as the first list: \")\n",
    "listBQ17 = inputBQ17.split(\",\")\n",
    "\n",
    "dictQ17 = {i:j for i,j in zip(listAQ17,listBQ17)}\n",
    "\n",
    "print(dictQ17)"
   ]
  },
  {
   "cell_type": "raw",
   "metadata": {},
   "source": [
    "Q18) Write a Python program that finds the minimum numerical value in a tuple. The tuple may contain non-numerical elements as well. Do not use any built-in function. "
   ]
  },
  {
   "cell_type": "code",
   "execution_count": null,
   "metadata": {},
   "outputs": [],
   "source": [
    "#DO NOT put spaces before or after commas or before first string. ex.)13,a,1,12,z,521\n",
    "inputQ18 = input(\"Enter a tuple: \")\n",
    "listQ18 = inputQ18.split(\",\")\n",
    "tupleQ18 = tuple(listQ18)\n",
    "\n",
    "def tupleMin(tup):\n",
    "    tMin = tup[0]\n",
    "    for i in tup[0:]:\n",
    "        if i < tMin:\n",
    "            tMin = i\n",
    "    return tMin\n",
    "print(tupleQ18)\n",
    "print(tupleMin(tupleQ18))"
   ]
  },
  {
   "cell_type": "raw",
   "metadata": {},
   "source": [
    "Q19) Write a Python program to calculate how many bits are required to represent a given positive integer. "
   ]
  },
  {
   "cell_type": "code",
   "execution_count": null,
   "metadata": {},
   "outputs": [],
   "source": [
    "inputQ19 = int(input(\"Enter a positive integer: \"))\n",
    "inputQ19.bit_length()"
   ]
  },
  {
   "cell_type": "raw",
   "metadata": {},
   "source": [
    "Q20) Write a Python program to check whether a given IP address is valid or not. The format of a valid IP address is ddd.d[dd].d[dd].d[ddd] where d is a digit and [] means optional. For example, the following are valid IP addresses: 321.22.434.56, 123.5.6.7890,…etc. examples of invalid IP addresses: 12.22.34.556, 9.222.34.1, 123.4567.23.1,…etc. "
   ]
  },
  {
   "cell_type": "code",
   "execution_count": null,
   "metadata": {},
   "outputs": [],
   "source": [
    "inputQ20 = input(\"Enter an IP address: \")\n",
    "\n",
    "ip20 = inputQ20.split(\".\") \n",
    "\n",
    "for i in ip20:\n",
    "    len0 = len(ip20[0])\n",
    "    len1 = len(ip20[1])\n",
    "    len2 = len(ip20[2])\n",
    "    len3 = len(ip20[3])\n",
    "    if len0 != 3: \n",
    "        print(\"IP address is not valid\")\n",
    "        break\n",
    "    if len1 < 1 or len1 > 3: \n",
    "        print(\"IP address is not valid\")\n",
    "        break\n",
    "    if len2 < 1 or len2 > 3: \n",
    "        print(\"IP address is not valid\")\n",
    "        break\n",
    "    if len3 < 1 or len3 > 4:\n",
    "        print(\"IP address is not valid\")\n",
    "        break\n",
    "    else:\n",
    "        print(\"IP address is valid\")\n",
    "        break"
   ]
  }
 ],
 "metadata": {
  "kernelspec": {
   "display_name": "Python 3",
   "language": "python",
   "name": "python3"
  },
  "language_info": {
   "codemirror_mode": {
    "name": "ipython",
    "version": 3
   },
   "file_extension": ".py",
   "mimetype": "text/x-python",
   "name": "python",
   "nbconvert_exporter": "python",
   "pygments_lexer": "ipython3",
   "version": "3.7.1"
  }
 },
 "nbformat": 4,
 "nbformat_minor": 2
}
