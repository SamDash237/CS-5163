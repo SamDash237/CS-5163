{
 "cells": [
  {
   "cell_type": "code",
   "execution_count": 1,
   "metadata": {},
   "outputs": [],
   "source": [
    "import numpy as np\n",
    "import math\n",
    "import gzip"
   ]
  },
  {
   "cell_type": "raw",
   "metadata": {},
   "source": [
    "Q1) (40 points) Write a Python script to perform the tasks in Q1 and Q3 from homework assignment 3\n",
    "using numpy. Your program should accept the path to the file to read (example:\n",
    "C:\\Documents\\random.txt). Don’t submit the provided input file (random.txt) with your notebook."
   ]
  },
  {
   "cell_type": "raw",
   "metadata": {},
   "source": [
    "Write a Python script to read the given text file called random.txt. The text file contains\n",
    "1,000 random numbers collected from 5 different methods to generate random numbers. Each method\n",
    "generated 1,000 numbers. The first line is the header contains the name of the 5 methods used. Starting\n",
    "from the second line, every line is 5 random values, separated by a comma, come from the 5 methods.\n",
    "Therefore, each column in the text file is the 1,000 numbers coming from one method. Your program\n",
    "needs to read the file and calculate the summary statistics for each method (column). The summary\n",
    "statistics include (in order): max, min, mean, standard deviation, median, percentile 75, percentile 25.\n",
    "You have to write your own functions to calculate the above statistics. Your program must output the results (either on screen or a text file) in a neat way and the statistics rounded to 2 decimal points."
   ]
  },
  {
   "cell_type": "code",
   "execution_count": 2,
   "metadata": {},
   "outputs": [
    {
     "name": "stdout",
     "output_type": "stream",
     "text": [
      "              methodA      methodB     methodC     methodD     methodE\n",
      "Max           9.00         14.85       12.00       17.42       9.00\n",
      "Min           0.00        -4.33        0.60       -11.50       0.01\n",
      "Mean          4.58         5.03        3.03        4.61        4.50\n",
      "Std Dev       2.85         2.96        1.51        4.55        2.62\n",
      "Median        4.00         5.06        2.71        4.82        4.51\n",
      "Percentile 75 7.00         7.04        3.68        7.69        6.79\n",
      "Percentile 25 2.00         2.97        1.97        1.56        2.17\n"
     ]
    }
   ],
   "source": [
    "r = 'random.txt'\n",
    "rData = np.genfromtxt(r, names=True, delimiter=\",\", dtype=None)\n",
    "\n",
    "colA = np.array(rData['methodA'])\n",
    "colB = np.array(rData['methodB'])\n",
    "colC = np.array(rData['methodC'])\n",
    "colD = np.array(rData['methodD'])\n",
    "colE = np.array(rData['methodE'])\n",
    "\n",
    "print(\"              methodA      methodB     methodC     methodD     methodE\")\n",
    "print(\"Max           {0:.2f}\".format(colA.max()),\"        {0:.2f}\".format(colB.max()),\"      {0:.2f}\".format(colC.max()),\"      {0:.2f}\".format(colD.max()),\"      {0:.2f}\".format(colE.max()))\n",
    "print(\"Min           {0:.2f}\".format(colA.min()),\"       {0:.2f}\".format(colB.min()),\"       {0:.2f}\".format(colC.min()),\"      {0:.2f}\".format(colD.min()),\"      {0:.2f}\".format(colE.min()))\n",
    "print(\"Mean          {0:.2f}\".format(colA.mean()),\"        {0:.2f}\".format(colB.mean()),\"       {0:.2f}\".format(colC.mean()),\"       {0:.2f}\".format(colD.mean()),\"       {0:.2f}\".format(colE.mean()))\n",
    "print(\"Std Dev       {0:.2f}\".format(colA.std()),\"        {0:.2f}\".format(colB.std()),\"       {0:.2f}\".format(colC.std()),\"       {0:.2f}\".format(colD.std()),\"       {0:.2f}\".format(colE.std()))\n",
    "print(\"Median        {0:.2f}\".format(np.median(colA)),\"        {0:.2f}\".format(np.median(colB)),\"       {0:.2f}\".format(np.median(colC)),\"       {0:.2f}\".format(np.median(colD)),\"       {0:.2f}\".format(np.median(colE)))\n",
    "print(\"Percentile 75 {0:.2f}\".format(np.percentile(colA, 75)),\"        {0:.2f}\".format(np.percentile(colB, 75)),\"       {0:.2f}\".format(np.percentile(colC, 75)),\"       {0:.2f}\".format(np.percentile(colD, 75)),\"       {0:.2f}\".format(np.percentile(colE, 75)))\n",
    "print(\"Percentile 25 {0:.2f}\".format(np.percentile(colA, 25)),\"        {0:.2f}\".format(np.percentile(colB, 25)),\"       {0:.2f}\".format(np.percentile(colC, 25)),\"       {0:.2f}\".format(np.percentile(colD, 25)),\"       {0:.2f}\".format(np.percentile(colE, 25)))"
   ]
  },
  {
   "cell_type": "raw",
   "metadata": {},
   "source": [
    "Write a python program to scale the numbers in random.txt for each method to integers\n",
    "in [0, 9] and then count the number of occurrence of each integer in the range [0, 9]. To scale the\n",
    "random number x use the formula round(9*(x - min)/(max - min)). Print out the frequencies of the range\n",
    "[0, 9] of each method on the screen."
   ]
  },
  {
   "cell_type": "code",
   "execution_count": 3,
   "metadata": {},
   "outputs": [
    {
     "name": "stdout",
     "output_type": "stream",
     "text": [
      "          0     1     2     3     4     5     6     7     8     9\n",
      "MethodA:  78    109   99    112   108   89    93    107   93    112\n",
      "MethodB:  1     19    74    164   263   268   146   54    9     2\n",
      "MethodC:  46    376   346   141   47    27    12    2     2     1\n",
      "MethodD:  2     9     26    111   207   264   230   121   27    3\n",
      "MethodE:  63    118   106   99    114   109   110   107   126   48\n"
     ]
    }
   ],
   "source": [
    "r = 'random.txt'\n",
    "rData = np.genfromtxt(r, names=True, delimiter=\",\", dtype=None)\n",
    "\n",
    "colA = np.array(rData['methodA'])\n",
    "colB = np.array(rData['methodB'])\n",
    "colC = np.array(rData['methodC'])\n",
    "colD = np.array(rData['methodD'])\n",
    "colE = np.array(rData['methodE'])\n",
    "\n",
    "roundA = [round((9*(x - colA.min()))/(colA.max() - colA.min())) for x in colA]\n",
    "roundB = [round((9*(x - colB.min()))/(colB.max() - colB.min())) for x in colB]\n",
    "roundC = [round((9*(x - colC.min()))/(colC.max() - colC.min())) for x in colC]\n",
    "roundD = [round((9*(x - colD.min()))/(colD.max() - colD.min())) for x in colD]\n",
    "roundE = [round((9*(x - colE.min()))/(colE.max() - colE.min())) for x in colE]\n",
    "\n",
    "countA0 = roundA.count(0)\n",
    "countA1 = roundA.count(1)\n",
    "countA2 = roundA.count(2)\n",
    "countA3 = roundA.count(3)\n",
    "countA4 = roundA.count(4)\n",
    "countA5 = roundA.count(5)\n",
    "countA6 = roundA.count(6)\n",
    "countA7 = roundA.count(7)\n",
    "countA8 = roundA.count(8)\n",
    "countA9 = roundA.count(9)\n",
    "countB0 = roundB.count(0)\n",
    "countB1 = roundB.count(1)\n",
    "countB2 = roundB.count(2)\n",
    "countB3 = roundB.count(3)\n",
    "countB4 = roundB.count(4)\n",
    "countB5 = roundB.count(5)\n",
    "countB6 = roundB.count(6)\n",
    "countB7 = roundB.count(7)\n",
    "countB8 = roundB.count(8)\n",
    "countB9 = roundB.count(9)\n",
    "countC0 = roundC.count(0)\n",
    "countC1 = roundC.count(1)\n",
    "countC2 = roundC.count(2)\n",
    "countC3 = roundC.count(3)\n",
    "countC4 = roundC.count(4)\n",
    "countC5 = roundC.count(5)\n",
    "countC6 = roundC.count(6)\n",
    "countC7 = roundC.count(7)\n",
    "countC8 = roundC.count(8)\n",
    "countC9 = roundC.count(9)\n",
    "countD0 = roundD.count(0)\n",
    "countD1 = roundD.count(1)\n",
    "countD2 = roundD.count(2)\n",
    "countD3 = roundD.count(3)\n",
    "countD4 = roundD.count(4)\n",
    "countD5 = roundD.count(5)\n",
    "countD6 = roundD.count(6)\n",
    "countD7 = roundD.count(7)\n",
    "countD8 = roundD.count(8)\n",
    "countD9 = roundD.count(9)\n",
    "countE0 = roundE.count(0)\n",
    "countE1 = roundE.count(1)\n",
    "countE2 = roundE.count(2)\n",
    "countE3 = roundE.count(3)\n",
    "countE4 = roundE.count(4)\n",
    "countE5 = roundE.count(5)\n",
    "countE6 = roundE.count(6)\n",
    "countE7 = roundE.count(7)\n",
    "countE8 = roundE.count(8)\n",
    "countE9 = roundE.count(9)\n",
    "\n",
    "print(\"          0     1     2     3     4     5     6     7     8     9\")\n",
    "print(\"MethodA:  %d    %d   %d    %d   %d   %d    %d    %d   %d    %d\" %(countA0,countA1,countA2,countA3,countA4,countA5,countA6,countA7,countA8,countA9))\n",
    "print(\"MethodB:  %d     %d    %d    %d   %d   %d   %d   %d    %d     %d\" %(countB0,countB1,countB2,countB3,countB4,countB5,countB6,countB7,countB8,countB9))\n",
    "print(\"MethodC:  %d    %d   %d   %d   %d    %d    %d    %d     %d     %d\" %(countC0,countC1,countC2,countC3,countC4,countC5,countC6,countC7,countC8,countC9))\n",
    "print(\"MethodD:  %d     %d     %d    %d   %d   %d   %d   %d   %d    %d\" %(countD0,countD1,countD2,countD3,countD4,countD5,countD6,countD7,countD8,countD9))\n",
    "print(\"MethodE:  %d    %d   %d   %d    %d   %d   %d   %d   %d   %d\" %(countE0,countE1,countE2,countE3,countE4,countE5,countE6,countE7,countE8,countE9))"
   ]
  },
  {
   "cell_type": "raw",
   "metadata": {},
   "source": [
    "Q2) (60 points) In this question we will be analyzing the Behavioral Risk Factor Surveillance System\n",
    "(BRFSS) weight vs. height data. The data can be found in the fixed-width ASCII file called\n",
    "CDBRFS08.ASC.gz. For this analysis, we are interested in five (5) pieces of data: age, current weight (cw),\n",
    "weight a year ago (waya), height, and gender.\n",
    "\n",
    "Based on the guideline, these data can be found in the following columns: age (101-102), current weight (119-122), weight a year ago (127-130), height (123-126), and gender (143,143).\n",
    "Your program should accept the path to the file to read (example: C:\\Documents\\CDBRFS08.ASC.gz).\n",
    "Don’t submit the provided input file (CDBRFS08.ASC.gz) with your notebook.\n",
    "Use the following line code to open the file as zipped file: gzip.open(yourFile, ‘rt’). Where ‘rt’ is used to\n",
    "open the file and read it as a text file. Import gzip to be able to use the command.\n",
    "\n",
    "Create a numby array of five (5) columns to maintain the data.\n",
    "\n",
    "Clean the data by removing any invalid or missing entry. Refer to the guideline for more information about the invalid/missing data. Delete all rows contain any invalid/missing data.\n",
    "\n",
    "For example: The only valid entries for cw are the values 50-0999 and 9000-9998.\n",
    "Convert weights to kg (lb/2.2) and round it up to 1 decimal point.\n",
    "Convert the height to centimeters (feet*30.48 + inches*2.54) and round it down to the integer number (<=0.5 truncate, otherwise round the fraction up)."
   ]
  },
  {
   "cell_type": "code",
   "execution_count": 4,
   "metadata": {},
   "outputs": [
    {
     "name": "stdout",
     "output_type": "stream",
     "text": [
      "Please enter the path/file to read: CDBRFS08.ASC.gz\n"
     ]
    },
    {
     "data": {
      "text/plain": [
       "385974"
      ]
     },
     "execution_count": 4,
     "metadata": {},
     "output_type": "execute_result"
    }
   ],
   "source": [
    "def floatCast(lst):\n",
    "    i = 0\n",
    "    for x in lst:\n",
    "        try:\n",
    "            lst[i] = float(x)\n",
    "        except:\n",
    "            lst[i] = -1\n",
    "        i += 1\n",
    "\n",
    "pfile = input('Please enter the path/file to read: ') #CDBRFS08.ASC.gz\n",
    "infile = gzip.open(pfile, 'rt')\n",
    "age = []; cw = []; waya = []; ht = []; gender = [];data = []\n",
    "\n",
    "for line in infile:\n",
    "    age += [line[100:102]]\n",
    "    cw += [line[118:122]]\n",
    "    ht += [line[122:126]]\n",
    "    waya += [line[126:130]]\n",
    "    gender += [line[142]]\n",
    "\n",
    "floatCast(age)\n",
    "floatCast(cw)\n",
    "floatCast(ht)\n",
    "floatCast(waya)\n",
    "floatCast(gender)\n",
    "\n",
    "index = 0\n",
    "for n in age:\n",
    "    if n == 7:\n",
    "        age[index] = -1\n",
    "    elif n == 9:\n",
    "        age[index] = -1\n",
    "    index += 1\n",
    "\n",
    "index = 0\n",
    "for n in cw:\n",
    "    if n < 50:\n",
    "        cw[index] = -1\n",
    "    elif n < 1000:\n",
    "        cw[index] = round(n/2.2,1)\n",
    "    elif n == 9999:\n",
    "        cw[index] = -1\n",
    "    elif n > 9000:\n",
    "        s = str(n)\n",
    "        metric = s[1:4]\n",
    "        metric = float(metric)\n",
    "        cw[index] = metric\n",
    "    elif n == 7777:\n",
    "        cw[index] = -1\n",
    "    else:\n",
    "         print(n)\n",
    "    index += 1\n",
    "\n",
    "index = 0\n",
    "for n in waya:\n",
    "    if n < 50:\n",
    "        waya[index] = -1\n",
    "    elif n < 1000:\n",
    "        waya[index] = round(n/2.2,1)\n",
    "    elif n == 9999:\n",
    "        waya[index] = -1\n",
    "    elif n > 9000:\n",
    "        s = str(n)\n",
    "        metric = s[1:4]\n",
    "        metric = float(metric)\n",
    "        waya[index] = metric\n",
    "    elif n == 7777:\n",
    "        waya[index] = -1\n",
    "    else:\n",
    "         print(n)\n",
    "    index += 1\n",
    "\n",
    "index = 0\n",
    "for n in ht:\n",
    "    if n < 200:\n",
    "        ht[index] = -1\n",
    "    elif n < 712:\n",
    "        s = str(n)\n",
    "        ft = s[0:1]\n",
    "        inches = s[1:4]\n",
    "        try:\n",
    "            ft = float(ft)\n",
    "            inches = float(inches)\n",
    "        except ValueError:\n",
    "            ht[index] = -1\n",
    "            continue\n",
    "        ht[index] = round(ft*30.48 + inches*2.54,1)\n",
    "    elif n == 9999:\n",
    "        ht[index] = -1\n",
    "    elif n > 9000:\n",
    "        s = str(n)\n",
    "        cm = s[1:4]\n",
    "        cm = float(cm)\n",
    "        ht[index] = cm\n",
    "    elif n == 7777:\n",
    "        ht[index] = -1\n",
    "    else:\n",
    "        ht[index] = -1\n",
    "    ht[index] = round(ht[index])\n",
    "    index += 1\n",
    "            \n",
    "data = list(zip(age, cw, waya, ht, gender)) #put all together\n",
    "npdata = np.array(data)         #create a Numpy array\n",
    "\n",
    "delVal = np.where(npdata[:,0] == None)\n",
    "npdata = np.delete(npdata,delVal,axis=0)\n",
    "delVal = np.where(npdata[:,0] == -1)\n",
    "npdata = np.delete(npdata,delVal,axis=0)\n",
    "delVal = np.where(npdata[:,1] == None)\n",
    "npdata = np.delete(npdata,delVal,axis=0)\n",
    "delVal = np.where(npdata[:,1] == -1)\n",
    "npdata = np.delete(npdata,delVal,axis=0)\n",
    "delVal = np.where(npdata[:,2] == None)\n",
    "npdata = np.delete(npdata,delVal,axis=0)\n",
    "delVal = np.where(npdata[:,2] == -1)\n",
    "npdata = np.delete(npdata,delVal,axis=0)\n",
    "delVal = np.where(npdata[:,3] == None)\n",
    "npdata = np.delete(npdata,delVal,axis=0)\n",
    "delVal = np.where(npdata[:,3] == -1)\n",
    "npdata = np.delete(npdata,delVal,axis=0)\n",
    "\n",
    "len(npdata)"
   ]
  },
  {
   "cell_type": "raw",
   "metadata": {},
   "source": [
    "a) (10 points) Your final cleaned/converted array will have 385,974 entries/rows. Here are the first\n",
    "15 rows of the array for your reference. Print same information."
   ]
  },
  {
   "cell_type": "code",
   "execution_count": 5,
   "metadata": {},
   "outputs": [
    {
     "data": {
      "text/plain": [
       "(array([[ 39. ,  88.6,  88.6, 180. ,   1. ],\n",
       "        [ 64. ,  75. ,  84.5, 155. ,   2. ],\n",
       "        [ 51. , 100. , 100. , 183. ,   1. ],\n",
       "        [ 35. ,  63.6,  61.4, 170. ,   2. ],\n",
       "        [ 62. ,  70.5,  70.5, 173. ,   2. ],\n",
       "        [ 64. ,  63.6,  63.6, 158. ,   2. ],\n",
       "        [ 55. ,  82.7,  82.7, 155. ,   2. ],\n",
       "        [ 71. ,  59.1,  56.8, 155. ,   2. ],\n",
       "        [ 21. ,  81.8,  86.4, 180. ,   1. ],\n",
       "        [ 45. ,  90.9,  90.9, 165. ,   2. ],\n",
       "        [ 53. ,  51.8,  51.8, 163. ,   2. ],\n",
       "        [ 51. ,  56.8,  59.1, 155. ,   2. ],\n",
       "        [ 70. , 105.5, 112.7, 170. ,   2. ],\n",
       "        [ 59. ,  84.1,  84.1, 165. ,   2. ],\n",
       "        [ 59. , 131.8, 129.5, 190. ,   1. ]]), 385974, dtype('float64'))"
      ]
     },
     "execution_count": 5,
     "metadata": {},
     "output_type": "execute_result"
    }
   ],
   "source": [
    "npdata[0:15], len(npdata), npdata.dtype"
   ]
  },
  {
   "cell_type": "raw",
   "metadata": {},
   "source": [
    "b) (10 points) Produce summary statistics for cw, waya, and height (mean, standard deviation,\n",
    "range, and median). Round the final answer to two (2) decimal places.\n",
    "Sample output:\n",
    "cw:\n",
    " mean: 79.06 std: 19.51 range: 280.0 median: 77.3\n",
    "waya:\n",
    " mean: 79.8 std: 20.58 range: 319.6 median: 77.3\n",
    "height:\n",
    " mean: 169.01 std: 10.39 range: 175.0 median: 168.0"
   ]
  },
  {
   "cell_type": "code",
   "execution_count": 6,
   "metadata": {},
   "outputs": [
    {
     "name": "stdout",
     "output_type": "stream",
     "text": [
      "cw:\n",
      " mean: 79.06    std: 19.51    range: 280.00    median: 77.30\n",
      "waya:\n",
      " mean: 79.80    std: 20.58    range: 319.60    median: 77.30\n",
      "height:\n",
      " mean: 169.08   std: 10.28    range: 175.00    median: 168.00\n"
     ]
    }
   ],
   "source": [
    "print(\"cw:\")\n",
    "print(\" mean: {0:.2f}   \".format(npdata[:,1].mean()), \"std: {0:.2f}   \".format(npdata[:,1].std()), \"range: {0:.2f}   \".format(np.ptp(npdata[:,1])), \"median: {0:.2f}\".format(np.median(npdata[:,1])))\n",
    "print(\"waya:\")\n",
    "print(\" mean: {0:.2f}   \".format(npdata[:,2].mean()), \"std: {0:.2f}   \".format(npdata[:,2].std()), \"range: {0:.2f}   \".format(np.ptp(npdata[:,2])), \"median: {0:.2f}\".format(np.median(npdata[:,2])))\n",
    "print(\"height:\")\n",
    "print(\" mean: {0:.2f}  \".format(npdata[:,3].mean()),\"std: {0:.2f}   \".format(npdata[:,3].std()), \"range: {0:.2f}   \".format(np.ptp(npdata[:,3])), \"median: {0:.2f}\".format(np.median(npdata[:,3])))"
   ]
  },
  {
   "cell_type": "raw",
   "metadata": {},
   "source": [
    "c) (5 points) How many entries are females younger (<) than 40?\n",
    "    Sample output: Number of females under 40: xxxx"
   ]
  },
  {
   "cell_type": "code",
   "execution_count": 7,
   "metadata": {},
   "outputs": [
    {
     "name": "stdout",
     "output_type": "stream",
     "text": [
      "Number of females under 40: 47153\n"
     ]
    }
   ],
   "source": [
    "femUnder40 = npdata[np.logical_and(npdata[:,4]==2, npdata[:,0] < 40)]\n",
    "femSum = len(femUnder40)\n",
    "print(\"Number of females under 40:\", femSum)"
   ]
  },
  {
   "cell_type": "raw",
   "metadata": {},
   "source": [
    "d) (5 points) How many male is within 1 std (<=) in height from the mean of the entire set and from the mean of male entries?\n",
    "Sample output:\n",
    "    Number of males within 1 std in height from the mean of entire set: xxxxx\n",
    "    Number of males within 1 std in height from the mean of males: xxxxx"
   ]
  },
  {
   "cell_type": "code",
   "execution_count": 8,
   "metadata": {},
   "outputs": [
    {
     "name": "stdout",
     "output_type": "stream",
     "text": [
      "Number of males within 1 std in height from mean of entire set: 248084\n",
      "Number of males within 1 std in height from mean of males: 132040\n"
     ]
    }
   ],
   "source": [
    "setHeightMean = npdata[:,3].mean()\n",
    "setHeightMean_std = np.std(npdata[:,3], ddof=1)\n",
    "maleHeightEntireSet_std = np.count_nonzero(abs(npdata[:,3]-setHeightMean)<=setHeightMean_std)\n",
    "print(\"Number of males within 1 std in height from mean of entire set:\", maleHeightEntireSet_std)\n",
    "\n",
    "maleSet = npdata[np.where(npdata[:,4] == 1)]\n",
    "maleSetMean = maleSet[:,3].mean()\n",
    "maleHeightMaleSet_std = np.count_nonzero(abs(maleSet[:,3]-maleSetMean)<=setHeightMean_std)\n",
    "print(\"Number of males within 1 std in height from mean of males:\", maleHeightMaleSet_std)"
   ]
  },
  {
   "cell_type": "raw",
   "metadata": {},
   "source": [
    "e) (5 points) How many outlier entries we have for waya for females?\n",
    "    Sample output: Number of outlier female entries in waya: xxxxx"
   ]
  },
  {
   "cell_type": "code",
   "execution_count": 9,
   "metadata": {},
   "outputs": [
    {
     "name": "stdout",
     "output_type": "stream",
     "text": [
      "Number of outlier female entries in waya: 7787\n"
     ]
    }
   ],
   "source": [
    "femaleSet = npdata[np.where(npdata[:,4] == 2)]\n",
    "\n",
    "q1 = np.percentile(femaleSet[:,2], 25)\n",
    "q3 = np.percentile(femaleSet[:,2], 75)\n",
    "\n",
    "IQR = q3-q1\n",
    "\n",
    "lfence = q1 - IQR*1.5\n",
    "ufence = q3 + IQR*1.5\n",
    "\n",
    "female_outliers = np.logical_or(femaleSet[:,2]<lfence, femaleSet[:,2]>ufence).sum()\n",
    "print(\"Number of outlier female entries in waya:\", female_outliers)"
   ]
  },
  {
   "cell_type": "raw",
   "metadata": {},
   "source": [
    "f) (5 points) Find the coefficient of variation for cw.\n",
    "    Sample output: Coefficient variation (CV) for cw: xx.xx%"
   ]
  },
  {
   "cell_type": "code",
   "execution_count": 10,
   "metadata": {},
   "outputs": [
    {
     "name": "stdout",
     "output_type": "stream",
     "text": [
      "Coefficient variation (CV) for cw: 24.68%\n"
     ]
    }
   ],
   "source": [
    "cw_std = np.std(npdata[:,1], ddof=1)\n",
    "cw_mean = np.mean(npdata[:,1])\n",
    "cw_cv = (cw_std/cw_mean)\n",
    "print(\"Coefficient variation (CV) for cw: {:.2%}\".format(cw_cv))"
   ]
  },
  {
   "cell_type": "raw",
   "metadata": {},
   "source": [
    "g) (5 points) Which group has less variation in cw, male or female? Why? Support your answer\n",
    "with numbers.\n",
    "    Sample output: female/male group has less variation.\n",
    "Print out the numbers you used to conclude."
   ]
  },
  {
   "cell_type": "code",
   "execution_count": 11,
   "metadata": {},
   "outputs": [
    {
     "name": "stdout",
     "output_type": "stream",
     "text": [
      "male group has less variation\n"
     ]
    }
   ],
   "source": [
    "maleSet = npdata[np.where(npdata[:,4] == 1)]\n",
    "maleSetMean = maleSet[:,3].mean()\n",
    "femaleSet = npdata[np.where(npdata[:,4] == 2)]\n",
    "femaleSetMean = femaleSet[:,3].mean()\n",
    "maleSetStd = np.std(maleSet[:,2], ddof=1)\n",
    "femaleSetStd = np.std(femaleSet[:,2], ddof=1)\n",
    "maleSet_cv = maleSetStd/maleSetMean\n",
    "femaleSet_cv = femaleSetStd/femaleSetMean\n",
    "print('male group has less variation') if maleSet_cv<femaleSet_cv else print('female group has less variation')"
   ]
  },
  {
   "cell_type": "raw",
   "metadata": {},
   "source": [
    "h) (5 points) Do males tend to gain more weight when they are older than (>) 40 compared to\n",
    "those who are younger? Use cw to find out. Support your answer with numbers.\n",
    "Sample output: yes/no. Because …… print out the numbers you used to conclude."
   ]
  },
  {
   "cell_type": "code",
   "execution_count": 12,
   "metadata": {},
   "outputs": [
    {
     "name": "stdout",
     "output_type": "stream",
     "text": [
      "Yes because the median for waya for men over 40 is greater\n"
     ]
    }
   ],
   "source": [
    "maleOver40 = npdata[np.logical_and(npdata[:,4]==1, npdata[:,0] > 40)]\n",
    "maleOver40WeightGain = maleOver40[:,2]\n",
    "over40Median = np.median(maleOver40WeightGain)\n",
    "maleUnder40 = npdata[np.logical_and(npdata[:,4]==1, npdata[:,0] < 40)]\n",
    "maleUnder40WeightGain = maleUnder40[:,2]\n",
    "under40Median = np.median(maleUnder40WeightGain)\n",
    "                \n",
    "print('Yes because the median for waya for men over 40 is greater') if under40Median<over40Median else print('No because the median for waya for men under 40 is greater')"
   ]
  },
  {
   "cell_type": "raw",
   "metadata": {},
   "source": [
    "i) (10 points) Define weight change (delta_w) = cw – waya. Calculate correlation between delta_w\n",
    "and the following variables, and determine which one is most correlated (regardless of the sign\n",
    "of correlation) with delta_w:\n",
    "a) cw, b) waya, c) height, and d) age.\n",
    "Sample output: the most correlated variable is x because …… here are the numbers\n",
    "Corr. Coef. delta and cw: x\n",
    "Corr. Coef delta and waya: x\n",
    "Corr. Coef. delta and height: x\n",
    "Corr. Coef. delta and age: x"
   ]
  },
  {
   "cell_type": "code",
   "execution_count": 23,
   "metadata": {},
   "outputs": [
    {
     "name": "stdout",
     "output_type": "stream",
     "text": [
      "Corr. Coef. delta and cw: 0.03413528936126581\n",
      "Corr. Coef. delta and waya: -0.31912128466558\n",
      "Corr. Coef. delta and height: -0.012380475774546928\n",
      "Corr. Coef. delta and age: -0.06867816738033602\n",
      "The most correlated variable is cw because it has the greatest absolute value\n"
     ]
    }
   ],
   "source": [
    "delta_w = npdata[:,1] - npdata[:,2]\n",
    "delta_w_cw = np.corrcoef(delta_w, npdata[:,1])\n",
    "delta_w_waya = np.corrcoef(delta_w, npdata[:,2])\n",
    "delta_w_height = np.corrcoef(delta_w, npdata[:,3])\n",
    "delta_w_age = np.corrcoef(delta_w, npdata[:,0])\n",
    "print(\"Corr. Coef. delta and cw:\", delta_w_cw[0,1])\n",
    "print(\"Corr. Coef. delta and waya:\", delta_w_waya[0,1])\n",
    "print(\"Corr. Coef. delta and height:\", delta_w_height[0,1])\n",
    "print(\"Corr. Coef. delta and age:\", delta_w_age[0,1])\n",
    "print(\"The most correlated variable is cw because it has the greatest absolute value\")"
   ]
  }
 ],
 "metadata": {
  "kernelspec": {
   "display_name": "Python 3",
   "language": "python",
   "name": "python3"
  },
  "language_info": {
   "codemirror_mode": {
    "name": "ipython",
    "version": 3
   },
   "file_extension": ".py",
   "mimetype": "text/x-python",
   "name": "python",
   "nbconvert_exporter": "python",
   "pygments_lexer": "ipython3",
   "version": "3.7.1"
  }
 },
 "nbformat": 4,
 "nbformat_minor": 2
}
