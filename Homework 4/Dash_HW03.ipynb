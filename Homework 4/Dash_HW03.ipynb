{
 "cells": [
  {
   "cell_type": "code",
   "execution_count": 3,
   "metadata": {},
   "outputs": [],
   "source": [
    "import math"
   ]
  },
  {
   "cell_type": "raw",
   "metadata": {},
   "source": [
    "Q1) (40 points) Write a Python script to read the given text file called random.txt. The text file contains\n",
    "1,000 random numbers collected from 5 different methods to generate random numbers. Each method\n",
    "generated 1,000 numbers. The first line is the header contains the name of the 5 methods used. Starting\n",
    "from the second line, every line is 5 random values, separated by a comma, come from the 5 methods.\n",
    "Therefore, each column in the text file is the 1,000 numbers coming from one method. Your program\n",
    "needs to read the file and calculate the summary statistics for each method (column). The summary\n",
    "statistics include (in order): max, min, mean, standard deviation, median, percentile 75, percentile 25.\n",
    "You have to write your own functions to calculate the above statistics. No built-in function can be used.\n",
    "Your program must output the results (either on screen or a text file) in a neat way and the statistics\n",
    "rounded to 2 decimal points."
   ]
  },
  {
   "cell_type": "code",
   "execution_count": 4,
   "metadata": {},
   "outputs": [
    {
     "name": "stdout",
     "output_type": "stream",
     "text": [
      "              methodA      methodB     methodC     methodD     methodE\n",
      "Max           9.00         14.85       12.00       17.42       9.00\n",
      "Min           0.00         -4.33       0.60       -11.50       0.01\n",
      "Mean          4.58         5.03        3.03        4.61        4.50\n",
      "Std Dev       2.85         2.96        1.51        4.55        2.62\n",
      "Median        4.00         5.06        2.71        4.82        4.51\n",
      "Percentile 75 7.00         7.04        3.68        7.68        6.78\n",
      "Percentile 25 2.00         2.95        1.97        1.56        2.16\n"
     ]
    }
   ],
   "source": [
    "column1 = []\n",
    "column2 = []\n",
    "column3 = []\n",
    "column4 = []\n",
    "column5 = []\n",
    "with open('random.txt', 'r') as r:\n",
    "    next(r)\n",
    "    for line in r:\n",
    "        file = line.split(\",\")\n",
    "        column1.append(file[0])\n",
    "        column2.append(file[1])\n",
    "        column3.append(file[2])\n",
    "        column4.append(file[3])\n",
    "        column5.append(file[4])\n",
    "        \n",
    "        colA = [float(i) for i in column1]\n",
    "        colB = [float(i) for i in column2]\n",
    "        colC = [float(i) for i in column3]\n",
    "        colD = [float(i) for i in column4]\n",
    "        colE = [float(i) for i in column5]\n",
    "        \n",
    "        colASort = sorted(colA)\n",
    "        colBSort = sorted(colB)\n",
    "        colCSort = sorted(colC)\n",
    "        colDSort = sorted(colD)\n",
    "        colESort = sorted(colE)\n",
    "        \n",
    "        maxA = colASort[-1]\n",
    "        maxB = colBSort[-1]\n",
    "        maxC = colCSort[-1]\n",
    "        maxD = colDSort[-1]\n",
    "        maxE = colESort[-1]\n",
    "        \n",
    "        minA = colASort[0]\n",
    "        minB = colBSort[0]\n",
    "        minC = colCSort[0]\n",
    "        minD = colDSort[0]\n",
    "        minE = colESort[0]\n",
    "        \n",
    "        lenA = len(colA)\n",
    "        lenB = len(colB)\n",
    "        lenC = len(colC)\n",
    "        lenD = len(colD)\n",
    "        lenE = len(colE)\n",
    "        \n",
    "        meanA = sum(colA)/len(colA)\n",
    "        meanB = sum(colB)/len(colB)\n",
    "        meanC = sum(colC)/len(colC)\n",
    "        meanD = sum(colD)/len(colD)\n",
    "        meanE = sum(colE)/len(colE)\n",
    "        \n",
    "        diffA = [x - meanA for x in colA]\n",
    "        diffB = [x - meanB for x in colB]\n",
    "        diffC = [x - meanC for x in colC]\n",
    "        diffD = [x - meanD for x in colD]\n",
    "        diffE = [x - meanE for x in colE]\n",
    "        \n",
    "        sqdiffA = [y**2 for y in diffA]\n",
    "        sqdiffB = [y**2 for y in diffB]\n",
    "        sqdiffC = [y**2 for y in diffC]\n",
    "        sqdiffD = [y**2 for y in diffD]\n",
    "        sqdiffE = [y**2 for y in diffE]\n",
    "        \n",
    "        sumsqdiffA = sum(sqdiffA)\n",
    "        sumsqdiffB = sum(sqdiffB)\n",
    "        sumsqdiffC = sum(sqdiffC)\n",
    "        sumsqdiffD = sum(sqdiffD)\n",
    "        sumsqdiffE = sum(sqdiffE)\n",
    "        \n",
    "        varA = sumsqdiffA / float(lenA)\n",
    "        varB = sumsqdiffB / float(lenB)\n",
    "        varC = sumsqdiffC / float(lenC)\n",
    "        varD = sumsqdiffD / float(lenD)\n",
    "        varE = sumsqdiffE / float(lenE)\n",
    "        \n",
    "        stdA = math.sqrt(varA)\n",
    "        stdB = math.sqrt(varB)\n",
    "        stdC = math.sqrt(varC)\n",
    "        stdD = math.sqrt(varD)\n",
    "        stdE = math.sqrt(varE)\n",
    "        \n",
    "        def median(l):\n",
    "            n = len(l)\n",
    "            if n % 2 == 1:\n",
    "                return sorted(l)[n//2]\n",
    "            else:\n",
    "                return sum(sorted(l)[n//2-1:n//2+1])/2.0\n",
    "            \n",
    "        medA = median(colA)\n",
    "        medB = median(colB)\n",
    "        medC = median(colC)\n",
    "        medD = median(colD)\n",
    "        medE = median(colE)\n",
    "        \n",
    "        def percentile(l, p): #l is list you want percentile for, p is int indicating percentile you want from 1 to 100\n",
    "            sL = len(l)\n",
    "            return sorted(l)[int(math.ceil((sL * p) / 100)) - 1]\n",
    "        \n",
    "        colA25 = percentile(colASort, 25)\n",
    "        colA75 = percentile(colASort, 75)\n",
    "        colB25 = percentile(colBSort, 25)\n",
    "        colB75 = percentile(colBSort, 75)\n",
    "        colC25 = percentile(colCSort, 25)\n",
    "        colC75 = percentile(colCSort, 75)\n",
    "        colD25 = percentile(colDSort, 25)\n",
    "        colD75 = percentile(colDSort, 75)\n",
    "        colE25 = percentile(colESort, 25)\n",
    "        colE75 = percentile(colESort, 75)\n",
    "        \n",
    "print(\"              methodA      methodB     methodC     methodD     methodE\")\n",
    "print(\"Max           {0:.2f}\".format(maxA),\"        {0:.2f}\".format(maxB),\"      {0:.2f}\".format(maxC),\"      {0:.2f}\".format(maxD),\"      {0:.2f}\".format(maxE))\n",
    "print(\"Min           {0:.2f}\".format(minA),\"        {0:.2f}\".format(minB),\"      {0:.2f}\".format(minC),\"      {0:.2f}\".format(minD),\"      {0:.2f}\".format(minE))\n",
    "print(\"Mean          {0:.2f}\".format(meanA),\"        {0:.2f}\".format(meanB),\"       {0:.2f}\".format(meanC),\"       {0:.2f}\".format(meanD),\"       {0:.2f}\".format(meanE))\n",
    "print(\"Std Dev       {0:.2f}\".format(stdA),\"        {0:.2f}\".format(stdB),\"       {0:.2f}\".format(stdC),\"       {0:.2f}\".format(stdD),\"       {0:.2f}\".format(stdE))\n",
    "print(\"Median        {0:.2f}\".format(medA),\"        {0:.2f}\".format(medB),\"       {0:.2f}\".format(medC),\"       {0:.2f}\".format(medD),\"       {0:.2f}\".format(medE))\n",
    "print(\"Percentile 75 {0:.2f}\".format(colA75),\"        {0:.2f}\".format(colB75),\"       {0:.2f}\".format(colC75),\"       {0:.2f}\".format(colD75),\"       {0:.2f}\".format(colE75))\n",
    "print(\"Percentile 25 {0:.2f}\".format(colA25),\"        {0:.2f}\".format(colB25),\"       {0:.2f}\".format(colC25),\"       {0:.2f}\".format(colD25),\"       {0:.2f}\".format(colE25))"
   ]
  },
  {
   "cell_type": "raw",
   "metadata": {},
   "source": [
    "Q2) (15 points) Use any software to plot the output of Q1 above. Make your plot clear and neat."
   ]
  },
  {
   "cell_type": "code",
   "execution_count": 16,
   "metadata": {},
   "outputs": [
    {
     "data": {
      "image/png": "[encoded data removed]",
      "text/plain": [
       "<Figure size 432x288 with 1 Axes>"
      ]
     },
     "metadata": {
      "needs_background": "light"
     },
     "output_type": "display_data"
    }
   ],
   "source": [
    "import matplotlib.pyplot as plt\n",
    "\n",
    "x = [\"MethodA\",\"MethodB\",\"MethodC\",\"MethodD\",\"MethodE\"]\n",
    "yMax = [maxA,maxB,maxC,maxD,maxE]\n",
    "yMin = [minA,minB,minC,minD,minE]\n",
    "yMean = [meanA,meanB,meanC,meanD,meanE]\n",
    "yStdDev = [stdA,stdB,stdC,stdD,stdE]\n",
    "yMedian = [medA,medB,medC,medD,medE]\n",
    "y75 = [colA75,colB75,colC75,colD75,colE75]\n",
    "y25 = [colA25, colB25,colC25,colD25,colE25]\n",
    "\n",
    "plt.scatter(x, yMax, label = \"Max\", color = \"blue\",  marker = \"^\")\n",
    "plt.scatter(x, yMin, label = \"Min\", color = \"red\", marker = \"v\")\n",
    "plt.scatter(x, yMean, label = \"Mean\", color = \"green\", marker = \"o\")\n",
    "plt.scatter(x, yStdDev, label = \"Standard Deviation\", color = \"orange\", marker = \"s\")\n",
    "plt.scatter(x, yMedian, label = \"Median\", color = \"cyan\", marker = \"*\")\n",
    "plt.scatter(x, y75, label = \"75th Percentile\", color = \"magenta\", marker = \">\")\n",
    "plt.scatter(x, y25, label = \"25th Percentile\", color = \"indigo\", marker = \"<\")\n",
    "\n",
    "plt.legend(bbox_to_anchor=(1.04,1), borderaxespad=0)\n",
    "plt.show()"
   ]
  },
  {
   "cell_type": "raw",
   "metadata": {},
   "source": [
    "Q3) (25 points) Write a python program to scale the numbers in random.txt for each method to integers\n",
    "in [0, 9] and then count the number of occurrence of each integer in the range [0, 9]. To scale the\n",
    "random number x use the formula round(9*(x - min)/(max - min)). Print out the frequencies of the range\n",
    "[0, 9] of each method on the screen."
   ]
  },
  {
   "cell_type": "code",
   "execution_count": 18,
   "metadata": {},
   "outputs": [
    {
     "name": "stdout",
     "output_type": "stream",
     "text": [
      "          0     1     2     3     4     5     6     7     8     9\n",
      "MethodA:  78    109   99    112   108   89    93    107   93    112\n",
      "MethodB:  1     19    74    164   263   268   146   54    9     2\n",
      "MethodC:  46    376   346   141   47    27    12    2     2     1\n",
      "MethodD:  2     9     26    111   207   264   230   121   27    3\n",
      "MethodE:  63    118   106   99    114   109   110   107   126   48\n"
     ]
    }
   ],
   "source": [
    "columnA = []\n",
    "columnB = []\n",
    "columnC = []\n",
    "columnD = []\n",
    "columnE = []\n",
    "with open('random.txt', 'r') as r:\n",
    "    next(r)\n",
    "    for line in r:\n",
    "        file = line.split(\",\")\n",
    "        columnA.append(file[0])\n",
    "        columnB.append(file[1])\n",
    "        columnC.append(file[2])\n",
    "        columnD.append(file[3])\n",
    "        columnE.append(file[4])\n",
    "        \n",
    "        colA = [float(i) for i in columnA]\n",
    "        colB = [float(i) for i in columnB]\n",
    "        colC = [float(i) for i in columnC]\n",
    "        colD = [float(i) for i in columnD]\n",
    "        colE = [float(i) for i in columnE]\n",
    "        \n",
    "        colASort = sorted(colA)\n",
    "        colBSort = sorted(colB)\n",
    "        colCSort = sorted(colC)\n",
    "        colDSort = sorted(colD)\n",
    "        colESort = sorted(colE)\n",
    "        \n",
    "        maxA = colASort[-1]\n",
    "        maxB = colBSort[-1]\n",
    "        maxC = colCSort[-1]\n",
    "        maxD = colDSort[-1]\n",
    "        maxE = colESort[-1]\n",
    "        \n",
    "        minA = colASort[0]\n",
    "        minB = colBSort[0]\n",
    "        minC = colCSort[0]\n",
    "        minD = colDSort[0]\n",
    "        minE = colESort[0]\n",
    "\n",
    "roundA = [round((9*(x - minA))/(maxA - minA)) for x in colA]\n",
    "roundB = [round((9*(x - minB))/(maxB - minB)) for x in colB]\n",
    "roundC = [round((9*(x - minC))/(maxC - minC)) for x in colC]\n",
    "roundD = [round((9*(x - minD))/(maxD - minD)) for x in colD]\n",
    "roundE = [round((9*(x - minE))/(maxE - minE)) for x in colE]\n",
    "        \n",
    "countA0 = roundA.count(0)\n",
    "countA1 = roundA.count(1)\n",
    "countA2 = roundA.count(2)\n",
    "countA3 = roundA.count(3)\n",
    "countA4 = roundA.count(4)\n",
    "countA5 = roundA.count(5)\n",
    "countA6 = roundA.count(6)\n",
    "countA7 = roundA.count(7)\n",
    "countA8 = roundA.count(8)\n",
    "countA9 = roundA.count(9)\n",
    "countB0 = roundB.count(0)\n",
    "countB1 = roundB.count(1)\n",
    "countB2 = roundB.count(2)\n",
    "countB3 = roundB.count(3)\n",
    "countB4 = roundB.count(4)\n",
    "countB5 = roundB.count(5)\n",
    "countB6 = roundB.count(6)\n",
    "countB7 = roundB.count(7)\n",
    "countB8 = roundB.count(8)\n",
    "countB9 = roundB.count(9)\n",
    "countC0 = roundC.count(0)\n",
    "countC1 = roundC.count(1)\n",
    "countC2 = roundC.count(2)\n",
    "countC3 = roundC.count(3)\n",
    "countC4 = roundC.count(4)\n",
    "countC5 = roundC.count(5)\n",
    "countC6 = roundC.count(6)\n",
    "countC7 = roundC.count(7)\n",
    "countC8 = roundC.count(8)\n",
    "countC9 = roundC.count(9)\n",
    "countD0 = roundD.count(0)\n",
    "countD1 = roundD.count(1)\n",
    "countD2 = roundD.count(2)\n",
    "countD3 = roundD.count(3)\n",
    "countD4 = roundD.count(4)\n",
    "countD5 = roundD.count(5)\n",
    "countD6 = roundD.count(6)\n",
    "countD7 = roundD.count(7)\n",
    "countD8 = roundD.count(8)\n",
    "countD9 = roundD.count(9)\n",
    "countE0 = roundE.count(0)\n",
    "countE1 = roundE.count(1)\n",
    "countE2 = roundE.count(2)\n",
    "countE3 = roundE.count(3)\n",
    "countE4 = roundE.count(4)\n",
    "countE5 = roundE.count(5)\n",
    "countE6 = roundE.count(6)\n",
    "countE7 = roundE.count(7)\n",
    "countE8 = roundE.count(8)\n",
    "countE9 = roundE.count(9)\n",
    "\n",
    "print(\"          0     1     2     3     4     5     6     7     8     9\")\n",
    "print(\"MethodA:  %d    %d   %d    %d   %d   %d    %d    %d   %d    %d\" %(countA0,countA1,countA2,countA3,countA4,countA5,countA6,countA7,countA8,countA9))\n",
    "print(\"MethodB:  %d     %d    %d    %d   %d   %d   %d   %d    %d     %d\" %(countB0,countB1,countB2,countB3,countB4,countB5,countB6,countB7,countB8,countB9))\n",
    "print(\"MethodC:  %d    %d   %d   %d   %d    %d    %d    %d     %d     %d\" %(countC0,countC1,countC2,countC3,countC4,countC5,countC6,countC7,countC8,countC9))\n",
    "print(\"MethodD:  %d     %d     %d    %d   %d   %d   %d   %d   %d    %d\" %(countD0,countD1,countD2,countD3,countD4,countD5,countD6,countD7,countD8,countD9))\n",
    "print(\"MethodE:  %d    %d   %d   %d    %d   %d   %d   %d   %d   %d\" %(countE0,countE1,countE2,countE3,countE4,countE5,countE6,countE7,countE8,countE9))"
   ]
  },
  {
   "cell_type": "raw",
   "metadata": {},
   "source": [
    "Q4) (10 points) Use any software to plot (using the line chart) the output of Q3 above. Make your plot\n",
    "clear and neat."
   ]
  },
  {
   "cell_type": "code",
   "execution_count": 20,
   "metadata": {},
   "outputs": [
    {
     "data": {
      "image/png": "[encoded data removed]",
      "text/plain": [
       "<Figure size 432x288 with 1 Axes>"
      ]
     },
     "metadata": {
      "needs_background": "light"
     },
     "output_type": "display_data"
    }
   ],
   "source": [
    "import matplotlib.pyplot as plt\n",
    "\n",
    "x = [0,1,2,3,4,5,6,7,8,9]\n",
    "plt.xlabel(\"Random Number\")\n",
    "\n",
    "yMethodA = [countA0,countA1,countA2,countA3,countA4,countA5,countA6,countA7,countA8,countA9]\n",
    "yMethodB = [countB0,countB1,countB2,countB3,countB4,countB5,countB6,countB7,countB8,countB9]\n",
    "yMethodC = [countC0,countC1,countC2,countC3,countC4,countC5,countC6,countC7,countC8,countC9]\n",
    "yMethodD = [countD0,countD1,countD2,countD3,countD4,countD5,countD6,countD7,countD8,countD9]\n",
    "yMethodE = [countE0,countE1,countE2,countE3,countE4,countE5,countE6,countE7,countE8,countE9]\n",
    "plt.ylabel('Count')\n",
    "\n",
    "plt.plot(x, yMethodA, label = \"Method A\", color = \"orange\")\n",
    "plt.plot(x, yMethodB, label = \"Method B\", color = \"green\")\n",
    "plt.plot(x, yMethodC, label = \"Method C\", color = \"red\")\n",
    "plt.plot(x, yMethodD, label = \"Method D\", color = \"blue\")\n",
    "plt.plot(x, yMethodE, label = \"Method E\", color = \"purple\")\n",
    "\n",
    "plt.title(\"Random function distribution\") \n",
    "\n",
    "plt.legend(bbox_to_anchor=(1.04,1), borderaxespad=0)\n",
    "plt.show() "
   ]
  },
  {
   "cell_type": "raw",
   "metadata": {},
   "source": [
    "Q5) (10 points) Discuss the differences between the methods like the shape of the distribution (normal,\n",
    "skewed), the variance of data, methods with similar output… etc. "
   ]
  },
  {
   "cell_type": "raw",
   "metadata": {},
   "source": [
    "Method C has a very sharp positive skew while Method B and Method D appear to be close to normal. Methods A and E are comparatively level all throughout the distribution. Methods A and E also have the closest output, while Methods B and D are also noticeably close in terms of output. Method C appears to be the only real outlier among the methods."
   ]
  }
 ],
 "metadata": {
  "kernelspec": {
   "display_name": "Python 3",
   "language": "python",
   "name": "python3"
  },
  "language_info": {
   "codemirror_mode": {
    "name": "ipython",
    "version": 3
   },
   "file_extension": ".py",
   "mimetype": "text/x-python",
   "name": "python",
   "nbconvert_exporter": "python",
   "pygments_lexer": "ipython3",
   "version": "3.7.1"
  }
 },
 "nbformat": 4,
 "nbformat_minor": 2
}
