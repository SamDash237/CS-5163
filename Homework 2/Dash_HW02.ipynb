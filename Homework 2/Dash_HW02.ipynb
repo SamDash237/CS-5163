{
 "cells": [
  {
   "cell_type": "code",
   "execution_count": 1,
   "metadata": {},
   "outputs": [],
   "source": [
    "import math"
   ]
  },
  {
   "cell_type": "markdown",
   "metadata": {},
   "source": [
    "Q1)\tWrite\ta\tPython\tscript\tto\tmimic\ta\ttrivial\ttext\teditor\tin\tsearch\tand\treplace\tfunctionality.\tYour\tprogram\taccepts\ta\ttext\tfile\tnamed\t“test.txt”\tand,\tusing\ta\tmenu-like,\tcan\teither\tsearch\tfor\tall\toccurrences\tof\ta\tgiven\tstring\tor\treplace\tone\tor\tall\toccurrences\tof\ta\tgiven\tstring.\tYour\tprogram\tshould\twrite\tback\ton\tthe\toriginal\ttext\t(update\tit)\twhen\treplace\toption\tis\tselected.\tNo\tneed\tto\tsubmit\tyour\ttest.txt\tyou\tused\tfor\tdebugging.\tThe\tgrader\twill\tuse\this\town\ttest.txt.\t"
   ]
  },
  {
   "cell_type": "code",
   "execution_count": null,
   "metadata": {},
   "outputs": [],
   "source": [
    "fileQ1 = open('test.txt')\n",
    "\n",
    "inputQ1 = input('Would you like to replace text? Y/N: ')\n",
    "if inputQ1 == 'Y':\n",
    "    search = input('Text to search for: ') \n",
    "\n",
    "    replace = input('Text to replace with: ')\n",
    "    \n",
    "    with fileQ1 as fQ:\n",
    "        repText=fQ.read().replace(search, replace)\n",
    " \n",
    "    with open('test.txt', 'w') as fQ:\n",
    "        fQ.write(repText)\n",
    "    \n",
    "    fileQ1.close()\n",
    "    \n",
    "elif inputQ1 == 'N':\n",
    "    search = input('Text to search for: ')\n",
    "                \n",
    "    readQ1 = fileQ1.read()\n",
    "    countQ1 = readQ1.count(search)\n",
    "                \n",
    "    print(countQ1)\n",
    "                \n",
    "    fileQ1.close()"
   ]
  },
  {
   "cell_type": "markdown",
   "metadata": {},
   "source": [
    "Q2)\tWrite\ta\tPython\tscript\tthat\tfinds\tthe\tlargest\tdifference\tbetween\telements\tof\ta\tgiven\tlist.\tFor\texample,\tthe\tlargest\tdifference\tin\t[2,\t5,\t-3,\t4,\t7,\t9]\tis\t12.\tThe\tlist\tis\tentered\tas\tone\tsingle\tcomma-separated\tstring."
   ]
  },
  {
   "cell_type": "code",
   "execution_count": null,
   "metadata": {},
   "outputs": [],
   "source": [
    "inputQ2 = input(\"Enter a list of comma-separated integers: \")\n",
    "listQ2 = inputQ2.split(\",\")\n",
    "listQ2 = [int(x) for x in listQ2]\n",
    "lenQ2 = len(listQ2)\n",
    "\n",
    "def largestDifference(listLen, arrLength): \n",
    "    largDiff = listLen[1] - listLen[0] \n",
    "      \n",
    "    for i in range(0, arrLength): \n",
    "        for j in range(i+1, arrLength): \n",
    "            if(listLen[j] - listLen[i] > largDiff):  \n",
    "                largDiff = listLen[j] - listLen[i] \n",
    "      \n",
    "    return largDiff\n",
    "\n",
    "print(\"The largest difference is\", largestDifference(listQ2, lenQ2))"
   ]
  },
  {
   "cell_type": "markdown",
   "metadata": {},
   "source": [
    "Q3)\tWrite\ta\tPython\tscript\tthat\tsimplifies\ta\tgiven\tstring.\tIt\tremoves\tany\ttabs,\tnewline,\tor\tmultiple\twhite\tspaces.\tFor\texample:\tthe\tstring\t“\tThis\tis\t\t\t\t\t\t\ta\tnice\t\t\t\t\tday\\n”\twill\tbe\tsimplified\tto\t“This\tis\ta\tnice\tday”.\tThe\tstring\tshould\tbe\tread\tfrom\ta\ttext\tfile\tcalled\t“test2.txt”.\tThe\tstring\tcould\tbe\ton\tone\tor\tmore\tlines.\tNo\tneed\tto\tsubmit\tyour\ttest2.txt.\tWe\twill\tuse\tour\town\ttest2.txt\tto\tgrade\tyour\tprogram."
   ]
  },
  {
   "cell_type": "code",
   "execution_count": null,
   "metadata": {},
   "outputs": [],
   "source": [
    "#Simplified string will be in test2Output.txt. Create an empty text file with that name.\n",
    "\n",
    "with open('test2.txt', 'r') as fileQ3:\n",
    "    dataQ3 = fileQ3.read()\n",
    "    \n",
    "    splitQ3 = dataQ3.split()\n",
    "    fileQ3Out = open('test2Output.txt','r+')\n",
    "    for i in splitQ3:\n",
    "            fileQ3Out.write(i + ' ')\n",
    "            print(fileQ3Out.read())"
   ]
  },
  {
   "cell_type": "markdown",
   "metadata": {},
   "source": [
    "Q4)\tWrite\ta\tPython\tscript\tthat\tcontains\ta\trecursive\tfunction\tto\tcalculate\tthe\tnth\tFibonacci,\twhere\tf(n)\t=\t1,\tn=1,2\tand\tf(n)\t=\tf(n-1)+f(n-2),\tn>2.\tYour\tprogram\twill\taccept\tthe\tvalue\tof\tn.\t"
   ]
  },
  {
   "cell_type": "code",
   "execution_count": null,
   "metadata": {},
   "outputs": [],
   "source": [
    "inputQ4 = int(input(\"Enter a positive integer value for n: \"))\n",
    "\n",
    "n1 = 0\n",
    "n2 = 1\n",
    "fibCount = 0\n",
    "\n",
    "if inputQ4 == 1:\n",
    "    print(n1)\n",
    "else:\n",
    "   while fibCount < inputQ4:\n",
    "       print(n1,end=',')\n",
    "       n = n1 + n2\n",
    "\n",
    "       n1 = n2\n",
    "       n2 = n\n",
    "       fibCount += 1"
   ]
  },
  {
   "cell_type": "markdown",
   "metadata": {},
   "source": [
    "Q5)\tWrite\ta\tPython\tscript\tthat\tcontains\tyour\town\timplementation\tof\tthe\tfunctional\ttool\t“filter”.\tYour\tfunction\tshould\tbe\tnamed\tas\tmyFilter\twith\theader\t(foo,\titerableObject).\tFor\tsimplicity,\tthe\titerable\tobject\tcould\tbe\ta\tnumerical\tlist,\tset,\tor\ta\ttuple.\tYour\tprogram\taccepts\tit\tas\tone\tsingle\tline\twith\tthe\tappropriate\tbrackets/braces/parenthesis\tto\tdenote\tthe\ttype\tof\tthe\tobject.\tFor\texample,\tif\tthe\tuser\twould\tlike\tto\tenter\ta\tlist,\ts/he\twill\ttype\tin\tsomething\tlike:\t[2,\t4,\t2,\t9]."
   ]
  },
  {
   "cell_type": "code",
   "execution_count": null,
   "metadata": {},
   "outputs": [],
   "source": [
    "#myFilter tests the function multipleOf3, which takes an int and returns True if the int is divisible by 3. Else,\n",
    "#it returns false.\n",
    "#when entering number, do not put spaces before or after. Ex.)1,3,6,27,29\n",
    "\n",
    "#def multipleOf3(x):\n",
    "    #if x%3 == 0:\n",
    "        #return True\n",
    "    #return False\n",
    "\n",
    "def myFilter(foo, iO):\n",
    "    return [foo(i) for i in iO]\n",
    "\n",
    "inputQ5 = input(\"Choose between a list, set, or tuple: \")\n",
    "if inputQ5 == \"list\":\n",
    "    typeInputQ5 = input(\"Enter your list: \")\n",
    "    typeInputQ5 = typeInputQ5.split(',')\n",
    "    plugInputQ5 = [int(x) for x in typeInputQ5]\n",
    "elif inputQ5 == \"set\":\n",
    "    typeInputQ5 = input(\"Enter your set: \")\n",
    "    typeInputQ5 = typeInputQ5.split(',')\n",
    "    plugInputQ5 = {int(x) for x in typeInputQ5}\n",
    "elif inputQ5 == \"tuple\":\n",
    "    typeInputQ5 = input(\"Enter your tuple: \")\n",
    "    typeInputQ5 = typeInputQ5.split(',')\n",
    "    plugInputQ5 = (int(x) for x in typeInputQ5)   \n",
    "else:\n",
    "    print('Not valid input')\n",
    "\n",
    "print(myFilter(multipleOf3, plugInputQ5))"
   ]
  },
  {
   "cell_type": "markdown",
   "metadata": {},
   "source": [
    "Q6)\tWrite\ta\tPython\tscript\tthat\tcontains\ta\tfunction\tcalled\tfoo\tthat\taccepts\ta\tvariable\tnumber\tof\tnumerical\tparameters\tand\treturns\tthese\tnumbers\tsorted\t(in\tascending\torder)\tand\tsaved\tin\ta\tlist.\tWe\twill\tupdate\tyour\tcode\twith\tour\tinvocation\tto\tyour\tfunction.\t"
   ]
  },
  {
   "cell_type": "code",
   "execution_count": null,
   "metadata": {},
   "outputs": [],
   "source": [
    "#when entering numbers, do not put spaces before or after. Ex.)1,2,5,7\n",
    "inputQ6 = input(\"Enter a variable amount of numbers: \")\n",
    "inputQ6 = inputQ6.split(\",\")\n",
    "\n",
    "def foo(*args):\n",
    "    sortList = []\n",
    "    for i in sorted(*args):\n",
    "        sortList.append(i)\n",
    "    print(sortList)\n",
    "    \n",
    "print(foo(inputQ6))"
   ]
  },
  {
   "cell_type": "markdown",
   "metadata": {},
   "source": [
    "Q7)\tWrite\ta\tPython\tscript\tto\taccept\ta\ttext\tfile\tcalled\t“test3.txt”\tand\treturns\tsome\tstatistics\tabout\tit.\tStatistics\tinclude:\t#lines,\t#words,\t#characters,\t#printable\tspecial\tcharacters\t(anything\tthat\tis\tnot\talphanumeric).\t"
   ]
  },
  {
   "cell_type": "code",
   "execution_count": null,
   "metadata": {},
   "outputs": [],
   "source": [
    "fileQ7 = open('test3.txt')\n",
    "linesQ7 = fileQ7.readlines()\n",
    "fileQ7.seek(0)\n",
    "print(linesQ7)\n",
    "wordsQ7 = fileQ7.read()\n",
    "fileQ7.seek(0)\n",
    "\n",
    "charQ7 = fileQ7.read()\n",
    "\n",
    "def pSCQ7(file):\n",
    "    with open(file, \"r\") as t: \n",
    "        pSC=0           \n",
    "        for ln in t:\n",
    "            for c in ln:\n",
    "                if not c.isalnum():\n",
    "                    pSC+=1\n",
    "    return pSC\n",
    "\n",
    "fileQ7.close()\n",
    "print(\"#lines:\", len(linesQ7))\n",
    "print(\"#words\", len(wordsQ7.split()))\n",
    "print(\"#characters:\", len(charQ7))\n",
    "print(\"#printable special characters:\", pSCQ7('test3.txt'))"
   ]
  },
  {
   "cell_type": "markdown",
   "metadata": {},
   "source": [
    "Q8)\tWrite\ta\tPython\tscript\tthat\tcontains\ta\tfunction\tlensort\tto\tsort\ta\tlist\tof\tstrings\tbased\ton\tlength.\tThe\tuser\twill\tenter\tthe\tlist\tof\tstrings\tas\tone\tcomma-separated\tline."
   ]
  },
  {
   "cell_type": "code",
   "execution_count": null,
   "metadata": {},
   "outputs": [],
   "source": [
    "#lensort will sort strings in ascending order\n",
    "inputQ8 = input(\"Enter a comma-separated list of strings: \")\n",
    "listQ8 = inputQ8.split(\",\")\n",
    "\n",
    "def lensort(unsortedList):\n",
    "    unsortedList.sort(key=len)\n",
    "    print(unsortedList)\n",
    "\n",
    "lensort(listQ8)"
   ]
  },
  {
   "cell_type": "markdown",
   "metadata": {},
   "source": [
    "Q9)\tWrite\ta\tPython\tscript\tthat\tcontains\ta\tfunction\t“triplets”\tthat\ttakes\ta\tnumber\tn\tas\targument\tand\treturns\ta\tlist\tof\ttriplets\tsuch\tthat\tthe\tsum\tof\tthe\tfirst\ttwo\telements\tof\tthe\ttriplet\tequals\tthe\tthird\telement\tusing\tnumbers\tbelow\tn.\tPlease\tnote\tthat\t(a,\tb,\tc)\tand\t(b,\ta,\tc)\trepresent\tthe\tsame\ttriplet.\tExample:\tt\tr\ti\tp\tl\te\tt\ts\t(\t5\t)\tproduces\t[\t(\t1\t,\t1\t,\t2\t)\t,\t(\t1\t,\t2\t,\t3\t)\t,\t(\t1\t,\t3\t,\t4\t)\t,\t(\t2\t,\t2\t,\t4\t)\t]\t"
   ]
  },
  {
   "cell_type": "code",
   "execution_count": null,
   "metadata": {},
   "outputs": [],
   "source": [
    "inputQ9 = int(input(\"Enter an integer n: \"))\n",
    "\n",
    "def triplets(n):\n",
    "    listTrip = []\n",
    "    for b in range(1,n):\n",
    "        for a in range(1, n):\n",
    "            c = a + b\n",
    "            if c < n:\n",
    "                listTrip.append(tuple((a, b, c)))\n",
    "    listTrip = set(tuple(sorted(i)) for i in listTrip)\n",
    "    print(listTrip)\n",
    "\n",
    "print(triplets(inputQ9))"
   ]
  },
  {
   "cell_type": "markdown",
   "metadata": {},
   "source": [
    "Q10)\tWrite\ta\tPython\tscript\tthat\tcontains\ta\tfunction\tto\tcalculate\tthe\tangle\tbetween\t3\tgiven\t3d\tpoints.\tEach\tpoint\tis\taccepted\tas\ta\tcomma-separated\tstring\tas\tx,\ty,\tx\tand\tyou\tprocess\tit.\t"
   ]
  },
  {
   "cell_type": "code",
   "execution_count": 10,
   "metadata": {},
   "outputs": [
    {
     "name": "stdout",
     "output_type": "stream",
     "text": [
      "Enter the coordinates for point 1: 0,0,0\n",
      "Enter the coordinates for point 2: 100,100,100\n",
      "Enter the coordinates for point 3: 69,96,38\n",
      "2.509124392105275\n"
     ]
    }
   ],
   "source": [
    "#Each point has 3 parts for coordinates. Entry format ex:29,33,37\n",
    "\n",
    "inputPoint1 = input(\"Enter the coordinates for point 1: \")\n",
    "listPoint1 = inputPoint1.split(\",\")\n",
    "listPoint1 = [int(x) for x in listPoint1]\n",
    "\n",
    "inputPoint2 = input(\"Enter the coordinates for point 2: \")\n",
    "listPoint2 = inputPoint2.split(\",\")\n",
    "listPoint2 = [int(x) for x in listPoint2]\n",
    "\n",
    "inputPoint3 = input(\"Enter the coordinates for point 3: \")\n",
    "listPoint3 = inputPoint3.split(\",\")\n",
    "listPoint3 = [int(x) for x in listPoint3]\n",
    "\n",
    "pointIntersection21 = []\n",
    "pointIntersection32 = []\n",
    "\n",
    "coord1 = listPoint2[0] - listPoint1[0]\n",
    "\n",
    "coord2= listPoint2[1] - listPoint1[1]\n",
    "\n",
    "coord3 = listPoint2[2] - listPoint1[2]\n",
    "\n",
    "coord4 = listPoint3[0] - listPoint2[0]\n",
    "\n",
    "coord5 = listPoint3[1] - listPoint2[1]\n",
    "\n",
    "coord6 = listPoint3[2] - listPoint2[2]\n",
    "\n",
    "vector21 = [coord1, coord2, coord3]\n",
    "vector32 = [coord4, coord5, coord6]\n",
    "\n",
    "vector21Magnitude = math.sqrt((vector21[0] * vector21[0])+(vector21[1] * vector21[1])+(vector21[2] * vector21[2]))\n",
    "vector21Normalization = [vector21[0] / vector21Magnitude, vector21[1] / vector21Magnitude, vector21[2] / vector21Magnitude]\n",
    "\n",
    "vector32Magnitude = math.sqrt((vector32[0] * vector32[0])+(vector32[1] * vector32[1])+(vector32[2] * vector32[2]))\n",
    "vector32Normalization = [vector32[0] / vector32Magnitude, vector32[1] / vector32Magnitude, vector32[2] / vector32Magnitude]\n",
    "\n",
    "scalarProd = (vector21Normalization[0] * vector32Normalization[0]) + (vector21Normalization[1] * vector32Normalization[1]) + (vector21Normalization[2] * vector32Normalization[2])\n",
    "\n",
    "theta = math.acos(scalarProd)\n",
    "\n",
    "print(theta)"
   ]
  }
 ],
 "metadata": {
  "kernelspec": {
   "display_name": "Python 3",
   "language": "python",
   "name": "python3"
  },
  "language_info": {
   "codemirror_mode": {
    "name": "ipython",
    "version": 3
   },
   "file_extension": ".py",
   "mimetype": "text/x-python",
   "name": "python",
   "nbconvert_exporter": "python",
   "pygments_lexer": "ipython3",
   "version": "3.7.1"
  }
 },
 "nbformat": 4,
 "nbformat_minor": 2
}
